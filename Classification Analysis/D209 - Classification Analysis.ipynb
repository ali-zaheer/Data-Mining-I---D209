{
 "cells": [
  {
   "cell_type": "markdown",
   "id": "0796a6b3",
   "metadata": {},
   "source": [
    "#### D209 - Classification Analysis\n",
    "azaheer@wgu.edu"
   ]
  },
  {
   "cell_type": "markdown",
   "id": "c0dff2c7",
   "metadata": {},
   "source": [
    "### Part I: Research Question\n",
    "#### A.  Describe the purpose of this data mining report by doing the following:\n",
    "1.  Propose one question relevant to a real-world organizational situation that you will answer using one of the following classification methods:\n",
    "\n",
    "    - k-nearest neighbor (KNN)\n",
    "\n",
    "    A. I will use the KNN and the following predictors to identify which customer are at high risk of churn?\n",
    "        • Children\n",
    "        • Income\n",
    "        • Tenure\n",
    "        • Bandwidth_GB_Year\n",
    "        • Age"
   ]
  },
  {
   "cell_type": "markdown",
   "id": "19a7a85d",
   "metadata": {},
   "source": [
    "2.  Define one goal of the data analysis. Ensure that your goal is reasonable within the scope of the scenario and is represented in the available data.\n",
    "\n",
    "    A. The stakeholders can review the data provided by the analysis and create incentives to keep the customers that are likely to terminate their contracts with the company. This will lead to a lower churn rate."
   ]
  },
  {
   "cell_type": "markdown",
   "id": "dc6a84ba",
   "metadata": {},
   "source": [
    "### Part II: Method Justification\n",
    "#### B.  Explain the reasons for your chosen classification method from part A1 by doing the following:\n",
    "1.  Explain how the classification method you chose analyzes the selected data set. Include expected outcomes.\n",
    "\n",
    "    K-Nearest Neighbours (KNN) is one of the simplest algorithms for classifying data items. It classifies new data points based on similarity measures i.e., distance function. The data items are classified by a majority vote to its neighbours.\n",
    "\n",
    "    Expected outcomes: The data will be classified based on their distance to predict their 'Churn' status 'Y' or 'N'."
   ]
  },
  {
   "cell_type": "markdown",
   "id": "10f92620",
   "metadata": {},
   "source": [
    "2.  Summarize one assumption of the chosen classification method.\n",
    "    \n",
    "    A. The classifier assumes that similar things are near to each other; that is, they are nearby. \n",
    "    Chatterjee, M. (2021, April 19)"
   ]
  },
  {
   "cell_type": "markdown",
   "id": "96613537",
   "metadata": {},
   "source": [
    "3.  List the packages or libraries you have chosen for Python or R, and justify how each item on the list supports the analysis.\n",
    "    \n",
    "    A. I will utilize Python due to my previous interaction with it and its Pandas, matplotlib and Scipy modules. Additionally, I will be using Jupyter notebook as the IDE because it provides a user-friendly experience. Pandas is an excellent package for working with data set as it makes it easy to load and manipulate columns and/or rows to replace null values. Matplotlib plot is an easy way to create graphs for identifying outliers using histograms and/or boxplots."
   ]
  },
  {
   "cell_type": "markdown",
   "id": "1f202c57",
   "metadata": {},
   "source": [
    "### Part III: Data Preparation\n",
    "#### C.  Perform data preparation for the chosen data set by doing the following:\n",
    "1.  Describe one data preprocessing goal relevant to the classification method from part A1.\n",
    "\n",
    "    A. I will convert all the categorical data to binary to perform the classification analysis."
   ]
  },
  {
   "cell_type": "markdown",
   "id": "4fa37692",
   "metadata": {},
   "source": [
    " 2.  Identify the initial data set variables that you will use to perform the analysis for the classification question from part A1, and classify each variable as continuous or categorical. \n",
    " \n",
    "     ##### Categorical Predictor:\n",
    "     • Churn\n",
    "    \n",
    "     ##### Continuous Predictor:    \n",
    "     • Children\n",
    "     • Income\n",
    "     • Tenure\n",
    "     • Bandwidth_GB_Year\n",
    "     • Age"
   ]
  },
  {
   "cell_type": "markdown",
   "id": "507b45df",
   "metadata": {},
   "source": [
    " 3.  Explain each of the steps used to prepare the data for the analysis. Identify the code segment for each step.\n",
    "     \n",
    "     \n",
    "     1. Import dataset to a DataFrame in Pandas.\n",
    "     2. Review the summary statistics of DataFrame, structure & data types.\n",
    "     3. Remove irrelevant columns from the DataFrame \"Customer_id\", \"zip code\".\n",
    "     4. Split the training and test data\n",
    "     5. Load and fit the KNN classifier\n",
    "     6. Review the KNN training score\n",
    "     7. Find ideal testing and training accuracy\n",
    "     8. Provide AUC score\n",
    "     9. provide a copy of the prepared dataset \"prepared_dataset.csv\" for use in KNN model"
   ]
  },
  {
   "cell_type": "code",
   "execution_count": 1,
   "id": "0c8251b7",
   "metadata": {},
   "outputs": [],
   "source": [
    "import pandas as pd\n",
    "import numpy as np\n",
    "import jedi\n",
    "\n",
    "# Visual libraries\n",
    "import matplotlib.pyplot as plt\n",
    "\n",
    "#Show all Columns and Rows\n",
    "pd.options.display.max_columns = None\n",
    "pd.options.display.max_rows = None\n",
    "\n",
    "# Load data set\n",
    "df = pd.read_csv('churn_clean.csv')\n",
    "\n",
    "# Amend columns with no names\n",
    "df = df.rename(columns=({ 'Item1': 'Timely_Response', 'Item2':'Timely_Fixes', 'Item3':'Timely_Replacements', \n",
    "                         'Item4':'Reliability', 'Item5':'Options', 'Item6':'Respectful_Response',\n",
    "                         'Item7':'Courteous_Exchange', 'Item8':'Evidence_of_active_listening'}))"
   ]
  },
  {
   "cell_type": "code",
   "execution_count": 2,
   "id": "f95c77d8",
   "metadata": {
    "scrolled": true
   },
   "outputs": [
    {
     "data": {
      "text/plain": [
       "CaseOrder                       0\n",
       "Customer_id                     0\n",
       "Interaction                     0\n",
       "UID                             0\n",
       "City                            0\n",
       "State                           0\n",
       "County                          0\n",
       "Zip                             0\n",
       "Lat                             0\n",
       "Lng                             0\n",
       "Population                      0\n",
       "Area                            0\n",
       "TimeZone                        0\n",
       "Job                             0\n",
       "Children                        0\n",
       "Age                             0\n",
       "Income                          0\n",
       "Marital                         0\n",
       "Gender                          0\n",
       "Churn                           0\n",
       "Outage_sec_perweek              0\n",
       "Email                           0\n",
       "Contacts                        0\n",
       "Yearly_equip_failure            0\n",
       "Techie                          0\n",
       "Contract                        0\n",
       "Port_modem                      0\n",
       "Tablet                          0\n",
       "InternetService                 0\n",
       "Phone                           0\n",
       "Multiple                        0\n",
       "OnlineSecurity                  0\n",
       "OnlineBackup                    0\n",
       "DeviceProtection                0\n",
       "TechSupport                     0\n",
       "StreamingTV                     0\n",
       "StreamingMovies                 0\n",
       "PaperlessBilling                0\n",
       "PaymentMethod                   0\n",
       "Tenure                          0\n",
       "MonthlyCharge                   0\n",
       "Bandwidth_GB_Year               0\n",
       "Timely_Response                 0\n",
       "Timely_Fixes                    0\n",
       "Timely_Replacements             0\n",
       "Reliability                     0\n",
       "Options                         0\n",
       "Respectful_Response             0\n",
       "Courteous_Exchange              0\n",
       "Evidence_of_active_listening    0\n",
       "dtype: int64"
      ]
     },
     "execution_count": 2,
     "metadata": {},
     "output_type": "execute_result"
    }
   ],
   "source": [
    "# Validate there are no nulls\n",
    "df.isnull().sum()"
   ]
  },
  {
   "cell_type": "code",
   "execution_count": 3,
   "id": "e797ddad",
   "metadata": {},
   "outputs": [
    {
     "data": {
      "text/html": [
       "<div>\n",
       "<style scoped>\n",
       "    .dataframe tbody tr th:only-of-type {\n",
       "        vertical-align: middle;\n",
       "    }\n",
       "\n",
       "    .dataframe tbody tr th {\n",
       "        vertical-align: top;\n",
       "    }\n",
       "\n",
       "    .dataframe thead th {\n",
       "        text-align: right;\n",
       "    }\n",
       "</style>\n",
       "<table border=\"1\" class=\"dataframe\">\n",
       "  <thead>\n",
       "    <tr style=\"text-align: right;\">\n",
       "      <th></th>\n",
       "      <th>CaseOrder</th>\n",
       "      <th>Zip</th>\n",
       "      <th>Lat</th>\n",
       "      <th>Lng</th>\n",
       "      <th>Population</th>\n",
       "      <th>Children</th>\n",
       "      <th>Age</th>\n",
       "      <th>Income</th>\n",
       "      <th>Outage_sec_perweek</th>\n",
       "      <th>Email</th>\n",
       "      <th>Contacts</th>\n",
       "      <th>Yearly_equip_failure</th>\n",
       "      <th>Tenure</th>\n",
       "      <th>MonthlyCharge</th>\n",
       "      <th>Bandwidth_GB_Year</th>\n",
       "      <th>Timely_Response</th>\n",
       "      <th>Timely_Fixes</th>\n",
       "      <th>Timely_Replacements</th>\n",
       "      <th>Reliability</th>\n",
       "      <th>Options</th>\n",
       "      <th>Respectful_Response</th>\n",
       "      <th>Courteous_Exchange</th>\n",
       "      <th>Evidence_of_active_listening</th>\n",
       "    </tr>\n",
       "  </thead>\n",
       "  <tbody>\n",
       "    <tr>\n",
       "      <th>count</th>\n",
       "      <td>10000.00000</td>\n",
       "      <td>10000.000000</td>\n",
       "      <td>10000.000000</td>\n",
       "      <td>10000.000000</td>\n",
       "      <td>10000.000000</td>\n",
       "      <td>10000.0000</td>\n",
       "      <td>10000.000000</td>\n",
       "      <td>10000.000000</td>\n",
       "      <td>10000.000000</td>\n",
       "      <td>10000.000000</td>\n",
       "      <td>10000.000000</td>\n",
       "      <td>10000.000000</td>\n",
       "      <td>10000.000000</td>\n",
       "      <td>10000.000000</td>\n",
       "      <td>10000.000000</td>\n",
       "      <td>10000.000000</td>\n",
       "      <td>10000.000000</td>\n",
       "      <td>10000.000000</td>\n",
       "      <td>10000.000000</td>\n",
       "      <td>10000.000000</td>\n",
       "      <td>10000.000000</td>\n",
       "      <td>10000.000000</td>\n",
       "      <td>10000.000000</td>\n",
       "    </tr>\n",
       "    <tr>\n",
       "      <th>mean</th>\n",
       "      <td>5000.50000</td>\n",
       "      <td>49153.319600</td>\n",
       "      <td>38.757567</td>\n",
       "      <td>-90.782536</td>\n",
       "      <td>9756.562400</td>\n",
       "      <td>2.0877</td>\n",
       "      <td>53.078400</td>\n",
       "      <td>39806.926771</td>\n",
       "      <td>10.001848</td>\n",
       "      <td>12.016000</td>\n",
       "      <td>0.994200</td>\n",
       "      <td>0.398000</td>\n",
       "      <td>34.526188</td>\n",
       "      <td>172.624816</td>\n",
       "      <td>3392.341550</td>\n",
       "      <td>3.490800</td>\n",
       "      <td>3.505100</td>\n",
       "      <td>3.487000</td>\n",
       "      <td>3.497500</td>\n",
       "      <td>3.492900</td>\n",
       "      <td>3.497300</td>\n",
       "      <td>3.509500</td>\n",
       "      <td>3.495600</td>\n",
       "    </tr>\n",
       "    <tr>\n",
       "      <th>std</th>\n",
       "      <td>2886.89568</td>\n",
       "      <td>27532.196108</td>\n",
       "      <td>5.437389</td>\n",
       "      <td>15.156142</td>\n",
       "      <td>14432.698671</td>\n",
       "      <td>2.1472</td>\n",
       "      <td>20.698882</td>\n",
       "      <td>28199.916702</td>\n",
       "      <td>2.976019</td>\n",
       "      <td>3.025898</td>\n",
       "      <td>0.988466</td>\n",
       "      <td>0.635953</td>\n",
       "      <td>26.443063</td>\n",
       "      <td>42.943094</td>\n",
       "      <td>2185.294852</td>\n",
       "      <td>1.037797</td>\n",
       "      <td>1.034641</td>\n",
       "      <td>1.027977</td>\n",
       "      <td>1.025816</td>\n",
       "      <td>1.024819</td>\n",
       "      <td>1.033586</td>\n",
       "      <td>1.028502</td>\n",
       "      <td>1.028633</td>\n",
       "    </tr>\n",
       "    <tr>\n",
       "      <th>min</th>\n",
       "      <td>1.00000</td>\n",
       "      <td>601.000000</td>\n",
       "      <td>17.966120</td>\n",
       "      <td>-171.688150</td>\n",
       "      <td>0.000000</td>\n",
       "      <td>0.0000</td>\n",
       "      <td>18.000000</td>\n",
       "      <td>348.670000</td>\n",
       "      <td>0.099747</td>\n",
       "      <td>1.000000</td>\n",
       "      <td>0.000000</td>\n",
       "      <td>0.000000</td>\n",
       "      <td>1.000259</td>\n",
       "      <td>79.978860</td>\n",
       "      <td>155.506715</td>\n",
       "      <td>1.000000</td>\n",
       "      <td>1.000000</td>\n",
       "      <td>1.000000</td>\n",
       "      <td>1.000000</td>\n",
       "      <td>1.000000</td>\n",
       "      <td>1.000000</td>\n",
       "      <td>1.000000</td>\n",
       "      <td>1.000000</td>\n",
       "    </tr>\n",
       "    <tr>\n",
       "      <th>25%</th>\n",
       "      <td>2500.75000</td>\n",
       "      <td>26292.500000</td>\n",
       "      <td>35.341828</td>\n",
       "      <td>-97.082812</td>\n",
       "      <td>738.000000</td>\n",
       "      <td>0.0000</td>\n",
       "      <td>35.000000</td>\n",
       "      <td>19224.717500</td>\n",
       "      <td>8.018214</td>\n",
       "      <td>10.000000</td>\n",
       "      <td>0.000000</td>\n",
       "      <td>0.000000</td>\n",
       "      <td>7.917694</td>\n",
       "      <td>139.979239</td>\n",
       "      <td>1236.470827</td>\n",
       "      <td>3.000000</td>\n",
       "      <td>3.000000</td>\n",
       "      <td>3.000000</td>\n",
       "      <td>3.000000</td>\n",
       "      <td>3.000000</td>\n",
       "      <td>3.000000</td>\n",
       "      <td>3.000000</td>\n",
       "      <td>3.000000</td>\n",
       "    </tr>\n",
       "    <tr>\n",
       "      <th>50%</th>\n",
       "      <td>5000.50000</td>\n",
       "      <td>48869.500000</td>\n",
       "      <td>39.395800</td>\n",
       "      <td>-87.918800</td>\n",
       "      <td>2910.500000</td>\n",
       "      <td>1.0000</td>\n",
       "      <td>53.000000</td>\n",
       "      <td>33170.605000</td>\n",
       "      <td>10.018560</td>\n",
       "      <td>12.000000</td>\n",
       "      <td>1.000000</td>\n",
       "      <td>0.000000</td>\n",
       "      <td>35.430507</td>\n",
       "      <td>167.484700</td>\n",
       "      <td>3279.536903</td>\n",
       "      <td>3.000000</td>\n",
       "      <td>4.000000</td>\n",
       "      <td>3.000000</td>\n",
       "      <td>3.000000</td>\n",
       "      <td>3.000000</td>\n",
       "      <td>3.000000</td>\n",
       "      <td>4.000000</td>\n",
       "      <td>3.000000</td>\n",
       "    </tr>\n",
       "    <tr>\n",
       "      <th>75%</th>\n",
       "      <td>7500.25000</td>\n",
       "      <td>71866.500000</td>\n",
       "      <td>42.106908</td>\n",
       "      <td>-80.088745</td>\n",
       "      <td>13168.000000</td>\n",
       "      <td>3.0000</td>\n",
       "      <td>71.000000</td>\n",
       "      <td>53246.170000</td>\n",
       "      <td>11.969485</td>\n",
       "      <td>14.000000</td>\n",
       "      <td>2.000000</td>\n",
       "      <td>1.000000</td>\n",
       "      <td>61.479795</td>\n",
       "      <td>200.734725</td>\n",
       "      <td>5586.141370</td>\n",
       "      <td>4.000000</td>\n",
       "      <td>4.000000</td>\n",
       "      <td>4.000000</td>\n",
       "      <td>4.000000</td>\n",
       "      <td>4.000000</td>\n",
       "      <td>4.000000</td>\n",
       "      <td>4.000000</td>\n",
       "      <td>4.000000</td>\n",
       "    </tr>\n",
       "    <tr>\n",
       "      <th>max</th>\n",
       "      <td>10000.00000</td>\n",
       "      <td>99929.000000</td>\n",
       "      <td>70.640660</td>\n",
       "      <td>-65.667850</td>\n",
       "      <td>111850.000000</td>\n",
       "      <td>10.0000</td>\n",
       "      <td>89.000000</td>\n",
       "      <td>258900.700000</td>\n",
       "      <td>21.207230</td>\n",
       "      <td>23.000000</td>\n",
       "      <td>7.000000</td>\n",
       "      <td>6.000000</td>\n",
       "      <td>71.999280</td>\n",
       "      <td>290.160419</td>\n",
       "      <td>7158.981530</td>\n",
       "      <td>7.000000</td>\n",
       "      <td>7.000000</td>\n",
       "      <td>8.000000</td>\n",
       "      <td>7.000000</td>\n",
       "      <td>7.000000</td>\n",
       "      <td>8.000000</td>\n",
       "      <td>7.000000</td>\n",
       "      <td>8.000000</td>\n",
       "    </tr>\n",
       "  </tbody>\n",
       "</table>\n",
       "</div>"
      ],
      "text/plain": [
       "         CaseOrder           Zip           Lat           Lng     Population  \\\n",
       "count  10000.00000  10000.000000  10000.000000  10000.000000   10000.000000   \n",
       "mean    5000.50000  49153.319600     38.757567    -90.782536    9756.562400   \n",
       "std     2886.89568  27532.196108      5.437389     15.156142   14432.698671   \n",
       "min        1.00000    601.000000     17.966120   -171.688150       0.000000   \n",
       "25%     2500.75000  26292.500000     35.341828    -97.082812     738.000000   \n",
       "50%     5000.50000  48869.500000     39.395800    -87.918800    2910.500000   \n",
       "75%     7500.25000  71866.500000     42.106908    -80.088745   13168.000000   \n",
       "max    10000.00000  99929.000000     70.640660    -65.667850  111850.000000   \n",
       "\n",
       "         Children           Age         Income  Outage_sec_perweek  \\\n",
       "count  10000.0000  10000.000000   10000.000000        10000.000000   \n",
       "mean       2.0877     53.078400   39806.926771           10.001848   \n",
       "std        2.1472     20.698882   28199.916702            2.976019   \n",
       "min        0.0000     18.000000     348.670000            0.099747   \n",
       "25%        0.0000     35.000000   19224.717500            8.018214   \n",
       "50%        1.0000     53.000000   33170.605000           10.018560   \n",
       "75%        3.0000     71.000000   53246.170000           11.969485   \n",
       "max       10.0000     89.000000  258900.700000           21.207230   \n",
       "\n",
       "              Email      Contacts  Yearly_equip_failure        Tenure  \\\n",
       "count  10000.000000  10000.000000          10000.000000  10000.000000   \n",
       "mean      12.016000      0.994200              0.398000     34.526188   \n",
       "std        3.025898      0.988466              0.635953     26.443063   \n",
       "min        1.000000      0.000000              0.000000      1.000259   \n",
       "25%       10.000000      0.000000              0.000000      7.917694   \n",
       "50%       12.000000      1.000000              0.000000     35.430507   \n",
       "75%       14.000000      2.000000              1.000000     61.479795   \n",
       "max       23.000000      7.000000              6.000000     71.999280   \n",
       "\n",
       "       MonthlyCharge  Bandwidth_GB_Year  Timely_Response  Timely_Fixes  \\\n",
       "count   10000.000000       10000.000000     10000.000000  10000.000000   \n",
       "mean      172.624816        3392.341550         3.490800      3.505100   \n",
       "std        42.943094        2185.294852         1.037797      1.034641   \n",
       "min        79.978860         155.506715         1.000000      1.000000   \n",
       "25%       139.979239        1236.470827         3.000000      3.000000   \n",
       "50%       167.484700        3279.536903         3.000000      4.000000   \n",
       "75%       200.734725        5586.141370         4.000000      4.000000   \n",
       "max       290.160419        7158.981530         7.000000      7.000000   \n",
       "\n",
       "       Timely_Replacements   Reliability       Options  Respectful_Response  \\\n",
       "count         10000.000000  10000.000000  10000.000000         10000.000000   \n",
       "mean              3.487000      3.497500      3.492900             3.497300   \n",
       "std               1.027977      1.025816      1.024819             1.033586   \n",
       "min               1.000000      1.000000      1.000000             1.000000   \n",
       "25%               3.000000      3.000000      3.000000             3.000000   \n",
       "50%               3.000000      3.000000      3.000000             3.000000   \n",
       "75%               4.000000      4.000000      4.000000             4.000000   \n",
       "max               8.000000      7.000000      7.000000             8.000000   \n",
       "\n",
       "       Courteous_Exchange  Evidence_of_active_listening  \n",
       "count        10000.000000                  10000.000000  \n",
       "mean             3.509500                      3.495600  \n",
       "std              1.028502                      1.028633  \n",
       "min              1.000000                      1.000000  \n",
       "25%              3.000000                      3.000000  \n",
       "50%              4.000000                      3.000000  \n",
       "75%              4.000000                      4.000000  \n",
       "max              7.000000                      8.000000  "
      ]
     },
     "execution_count": 3,
     "metadata": {},
     "output_type": "execute_result"
    }
   ],
   "source": [
    "# DataFrame statistics\n",
    "df.describe()"
   ]
  },
  {
   "cell_type": "code",
   "execution_count": 4,
   "id": "93c9b08a",
   "metadata": {},
   "outputs": [],
   "source": [
    "# Dropping columns that I think are not relavant to the analysis\n",
    "df = df.drop(columns= [\"CaseOrder\", \"Customer_id\",\"Interaction\", \"UID\", \"City\", \"State\", \n",
    "                            \"Techie\",\"PaperlessBilling\",\"Yearly_equip_failure\",\"County\", \"Zip\", \"Lat\", \"Lng\",\n",
    "                            \"Area\", \"TimeZone\", \"Job\", \"PaymentMethod\", \"DeviceProtection\",\n",
    "                            \"OnlineBackup\",\"OnlineBackup\",\"OnlineBackup\", \"OnlineBackup\",\"Port_modem\",\"OnlineSecurity\", \n",
    "                            \"Multiple\",\"Phone\",\"TechSupport\",\"Contract\",\"Tablet\",\"InternetService\", \"StreamingTV\", \"StreamingMovies\"\n",
    "                           ,\"MonthlyCharge\",\"Email\", \"Contacts\",\"Population\", \"Outage_sec_perweek\",\"Timely_Response\", \"Timely_Fixes\", \"Timely_Replacements\",\n",
    "                           \"Reliability\",\"Marital\", \"Gender\",\"Options\", \"Respectful_Response\",  \"Courteous_Exchange\", \"Evidence_of_active_listening\" \n",
    "                           ])"
   ]
  },
  {
   "cell_type": "code",
   "execution_count": 5,
   "id": "2097e8fb",
   "metadata": {
    "scrolled": false
   },
   "outputs": [
    {
     "data": {
      "text/html": [
       "<div>\n",
       "<style scoped>\n",
       "    .dataframe tbody tr th:only-of-type {\n",
       "        vertical-align: middle;\n",
       "    }\n",
       "\n",
       "    .dataframe tbody tr th {\n",
       "        vertical-align: top;\n",
       "    }\n",
       "\n",
       "    .dataframe thead th {\n",
       "        text-align: right;\n",
       "    }\n",
       "</style>\n",
       "<table border=\"1\" class=\"dataframe\">\n",
       "  <thead>\n",
       "    <tr style=\"text-align: right;\">\n",
       "      <th></th>\n",
       "      <th>Children</th>\n",
       "      <th>Age</th>\n",
       "      <th>Income</th>\n",
       "      <th>Churn</th>\n",
       "      <th>Tenure</th>\n",
       "      <th>Bandwidth_GB_Year</th>\n",
       "    </tr>\n",
       "  </thead>\n",
       "  <tbody>\n",
       "    <tr>\n",
       "      <th>0</th>\n",
       "      <td>0</td>\n",
       "      <td>68</td>\n",
       "      <td>28561.99</td>\n",
       "      <td>No</td>\n",
       "      <td>6.795513</td>\n",
       "      <td>904.536110</td>\n",
       "    </tr>\n",
       "    <tr>\n",
       "      <th>1</th>\n",
       "      <td>1</td>\n",
       "      <td>27</td>\n",
       "      <td>21704.77</td>\n",
       "      <td>Yes</td>\n",
       "      <td>1.156681</td>\n",
       "      <td>800.982766</td>\n",
       "    </tr>\n",
       "    <tr>\n",
       "      <th>2</th>\n",
       "      <td>4</td>\n",
       "      <td>50</td>\n",
       "      <td>9609.57</td>\n",
       "      <td>No</td>\n",
       "      <td>15.754144</td>\n",
       "      <td>2054.706961</td>\n",
       "    </tr>\n",
       "  </tbody>\n",
       "</table>\n",
       "</div>"
      ],
      "text/plain": [
       "   Children  Age    Income Churn     Tenure  Bandwidth_GB_Year\n",
       "0         0   68  28561.99    No   6.795513         904.536110\n",
       "1         1   27  21704.77   Yes   1.156681         800.982766\n",
       "2         4   50   9609.57    No  15.754144        2054.706961"
      ]
     },
     "execution_count": 5,
     "metadata": {},
     "output_type": "execute_result"
    }
   ],
   "source": [
    "# display data set with all the columns\n",
    "df.head(n=3)"
   ]
  },
  {
   "cell_type": "markdown",
   "id": "e331620d",
   "metadata": {},
   "source": [
    "### Part IV: Analysis\n",
    "#### D.  Perform the data analysis and report on the results by doing the following:\n",
    "1.  Split the data into training and test data sets and provide the file(s)."
   ]
  },
  {
   "cell_type": "code",
   "execution_count": 6,
   "id": "4358d421",
   "metadata": {},
   "outputs": [],
   "source": [
    "import matplotlib.pyplot as plt\n",
    "from sklearn.neighbors import KNeighborsClassifier\n",
    "from sklearn.model_selection import train_test_split"
   ]
  },
  {
   "cell_type": "code",
   "execution_count": 7,
   "id": "678765f6",
   "metadata": {},
   "outputs": [],
   "source": [
    "# Data conversion\n",
    "df['Churn'] = [1 if v == 'Yes' else 0 for v in df['Churn']]\n",
    "\n",
    "# Feature Selection\n",
    "X = df.drop('Churn', axis=1).values\n",
    "y = df['Churn']\n",
    "\n",
    "# Data split\n",
    "X_train, X_test, y_train, y_test = train_test_split(X,y, test_size=.02, random_state=21)"
   ]
  },
  {
   "cell_type": "markdown",
   "id": "56d3376b",
   "metadata": {},
   "source": [
    "2.  Describe the analysis technique you used to appropriately analyze the data. Include screenshots of the intermediate calculations you performed."
   ]
  },
  {
   "cell_type": "markdown",
   "id": "3ac8abf2",
   "metadata": {},
   "source": [
    "I used the KNN with n_neighbors parameters set to 6 to perform the analysis, then I printed out the shape of the training data and then stored the prediction in the y_pred. Lastly, print out the training accuracy of the model by using the score function."
   ]
  },
  {
   "cell_type": "markdown",
   "id": "af120008",
   "metadata": {},
   "source": [
    "Here is an example, the ‘green dot’ should be classified as either blue squares or red triangles. If k = 3 ‘solid line circle’, it is assigned to the red triangles because there are 2 triangles and only 1 square inside the inner circle. If k = 5 ‘dashed line circle’, it is assigned to the blue squares (3 squares vs. 2 triangles inside the outer circle)."
   ]
  },
  {
   "cell_type": "code",
   "execution_count": 8,
   "id": "b6c884e5",
   "metadata": {},
   "outputs": [
    {
     "data": {
      "text/html": [
       "<img src=\"knn_image.png\" width=\"400\" height=\"400\"/>"
      ],
      "text/plain": [
       "<IPython.core.display.Image object>"
      ]
     },
     "execution_count": 8,
     "metadata": {},
     "output_type": "execute_result"
    }
   ],
   "source": [
    "from IPython.display import Image\n",
    "Image(url= \"knn_image.png\", width=400, height=400)"
   ]
  },
  {
   "cell_type": "code",
   "execution_count": 9,
   "id": "7c5758e3",
   "metadata": {},
   "outputs": [
    {
     "data": {
      "text/plain": [
       "KNeighborsClassifier(n_neighbors=6)"
      ]
     },
     "execution_count": 9,
     "metadata": {},
     "output_type": "execute_result"
    }
   ],
   "source": [
    "# Train the model\n",
    "knn = KNeighborsClassifier(n_neighbors=6)\n",
    "knn.fit(X_train, y_train)"
   ]
  },
  {
   "cell_type": "code",
   "execution_count": 10,
   "id": "8a935da7",
   "metadata": {},
   "outputs": [],
   "source": [
    "# Prediction\n",
    "y_pred = knn.predict(X_test)"
   ]
  },
  {
   "cell_type": "code",
   "execution_count": 11,
   "id": "80efe867",
   "metadata": {},
   "outputs": [
    {
     "data": {
      "text/plain": [
       "0.745"
      ]
     },
     "execution_count": 11,
     "metadata": {},
     "output_type": "execute_result"
    }
   ],
   "source": [
    "# Accuracy Score of the training set\n",
    "knn.score(X_test, y_test)"
   ]
  },
  {
   "cell_type": "code",
   "execution_count": 12,
   "id": "241f6ad4",
   "metadata": {},
   "outputs": [],
   "source": [
    "# Setup hyperparameters selection for the KNN\n",
    "neighbors = np.arange(1, 9)\n",
    "train_accuracy = np.empty(len(neighbors))\n",
    "test_accuracy = np.empty(len(neighbors))\n",
    "\n",
    "# Loop over different values of k\n",
    "for i, k in enumerate(neighbors):\n",
    "    # K-NN Classifier with k neighbors: knn\n",
    "    knn = KNeighborsClassifier(n_neighbors=k)\n",
    "\n",
    "    # Fit the classifier\n",
    "    knn.fit(X_train,y_train)\n",
    "    \n",
    "    #Compute accuracy on the training set\n",
    "    train_accuracy[i] = knn.score(X_train, y_train)\n",
    "\n",
    "    #Compute accuracy on the testing set\n",
    "    test_accuracy[i] = knn.score(X_test, y_test)"
   ]
  },
  {
   "cell_type": "code",
   "execution_count": 13,
   "id": "158e5ded",
   "metadata": {},
   "outputs": [
    {
     "data": {
      "image/png": "[encoded data removed]",
      "text/plain": [
       "<Figure size 432x288 with 1 Axes>"
      ]
     },
     "metadata": {
      "needs_background": "light"
     },
     "output_type": "display_data"
    }
   ],
   "source": [
    "# Generate plot\n",
    "plt.title('k-NN: Varying Number of Neighbors')\n",
    "plt.plot(neighbors, test_accuracy, label = 'Testing Accuracy')\n",
    "plt.plot(neighbors, train_accuracy, label = 'Training Accuracy')\n",
    "plt.legend()\n",
    "plt.xlabel('Number of Neighbors')\n",
    "plt.ylabel('Accuracy')\n",
    "plt.show()"
   ]
  },
  {
   "cell_type": "markdown",
   "id": "c1eef644",
   "metadata": {},
   "source": [
    "Above analysis shows that the ideal neigbhours setting is 4 with the testing accuracy of 0.78 and the training accuracy at .81"
   ]
  },
  {
   "cell_type": "code",
   "execution_count": 14,
   "id": "a8ec43ec",
   "metadata": {},
   "outputs": [
    {
     "name": "stdout",
     "output_type": "stream",
     "text": [
      "              precision    recall  f1-score   support\n",
      "\n",
      "           0       0.81      0.88      0.84       155\n",
      "           1       0.41      0.29      0.34        45\n",
      "\n",
      "    accuracy                           0.74       200\n",
      "   macro avg       0.61      0.58      0.59       200\n",
      "weighted avg       0.72      0.74      0.73       200\n",
      "\n"
     ]
    }
   ],
   "source": [
    "# Compute classification metrics after scaling\n",
    "from sklearn.metrics import classification_report\n",
    "print(classification_report(y_test, y_pred))"
   ]
  },
  {
   "cell_type": "code",
   "execution_count": 15,
   "id": "8e05a5b2",
   "metadata": {},
   "outputs": [
    {
     "name": "stdout",
     "output_type": "stream",
     "text": [
      "[[136  19]\n",
      " [ 32  13]]\n"
     ]
    }
   ],
   "source": [
    "# Import sklearn confusion_matrix & generate results\n",
    "from sklearn.metrics import confusion_matrix\n",
    "matrix = confusion_matrix(y_test, y_pred)\n",
    "print(matrix)"
   ]
  },
  {
   "cell_type": "markdown",
   "id": "6189b2ce",
   "metadata": {},
   "source": [
    "3.  Provide the code used to perform the classification analysis from part D2."
   ]
  },
  {
   "cell_type": "code",
   "execution_count": 16,
   "id": "8b369262",
   "metadata": {},
   "outputs": [
    {
     "data": {
      "text/plain": [
       "0.78"
      ]
     },
     "execution_count": 16,
     "metadata": {},
     "output_type": "execute_result"
    }
   ],
   "source": [
    "# Re-insatiate the classifier with an ideal value of 4\n",
    "knn = KNeighborsClassifier(n_neighbors=4)\n",
    "knn.fit(X_train, y_train)\n",
    "\n",
    "# Prediction\n",
    "y_pred = knn.predict(X_test)\n",
    "\n",
    "# Accuracy Score\n",
    "knn.score(X_test, y_test)"
   ]
  },
  {
   "cell_type": "markdown",
   "id": "43003029",
   "metadata": {},
   "source": [
    "### Part V: Data Summary and Implications\n",
    "#### E.  Summarize your data analysis by doing the following:\n",
    "1.  Explain the accuracy and the area under the curve (AUC) of your classification model."
   ]
  },
  {
   "cell_type": "code",
   "execution_count": 17,
   "id": "8023c862",
   "metadata": {},
   "outputs": [
    {
     "name": "stdout",
     "output_type": "stream",
     "text": [
      "The Area under curve (AUC) is: 0.8929\n"
     ]
    }
   ],
   "source": [
    "# Import ROC AUC  \n",
    "from sklearn.metrics import roc_auc_score\n",
    "\n",
    "# Fit the data\n",
    "knn.fit(X, y)\n",
    "\n",
    "# Predicted probabilities\n",
    "y_predicted_probabilities = knn.predict_proba(X_test)[:,1]\n",
    "\n",
    "# AUC score\n",
    "print(\"The Area under curve (AUC) is: {:.4f}\".format(roc_auc_score(y_test, y_predicted_probabilities)))"
   ]
  },
  {
   "cell_type": "markdown",
   "id": "878113b8",
   "metadata": {},
   "source": [
    "2.  Discuss the results and implications of your classification analysis."
   ]
  },
  {
   "cell_type": "markdown",
   "id": "bf240a81",
   "metadata": {},
   "source": [
    "The AUC score informs us how well is our model at predicting the correct label for 'Churn’. The value is scaled from 0 to 1 being the most accurate. This KNN model has a score of '0.8929' which means the model is adequate at predicting the Churn rate but could perform better if further analysis is performed on the independent variables."
   ]
  },
  {
   "cell_type": "markdown",
   "id": "72be76d5",
   "metadata": {},
   "source": [
    "3.  Discuss one limitation of your data analysis."
   ]
  },
  {
   "cell_type": "markdown",
   "id": "5963d96d",
   "metadata": {},
   "source": [
    "Starting with an arbitrary choice of k = 6 nearest neighbours will yield dramatically different results. As shown above that a consideration must be observed and a systematic approach of trial and test must be tried to increase the accuracy of the prediction. I have also noticed that limiting the number of the independent variable to a select few can improve the performance considerably and reduce the memory and computational load which could lead to slow performance."
   ]
  },
  {
   "cell_type": "markdown",
   "id": "a8e8239c",
   "metadata": {},
   "source": [
    "4.  Recommend a course of action for the real-world organizational situation from part A1 based on your results and implications discussed in part E2."
   ]
  },
  {
   "cell_type": "markdown",
   "id": "89665ee1",
   "metadata": {},
   "source": [
    "The predictor variables create a low accuracy score of ‘0.89’. The stakeholders need to further invest in market analysis to identify competitive services and the marketing team needs to come up with products and services that will create an eco-system for the customer which will decrease the churn rate."
   ]
  },
  {
   "cell_type": "markdown",
   "id": "7d6381b9",
   "metadata": {},
   "source": [
    "### Part VI: Demonstration\n",
    "#### F.  Provide a Panopto video recording that includes a demonstration of the functionality of the code used for the analysis and a summary of the programming environment.\n",
    " \n",
    "Note: The audiovisual recording should feature you visibly presenting the material (i.e., not in voiceover or embedded video) and should simultaneously capture both you and your multimedia presentation.\n",
    " \n",
    "Note: For instructions on how to access and use Panopto, use the \"Panopto How-To Videos\" web link provided below. To access Panopto's website, navigate to the web link titled \"Panopto Access,\" and then choose to log in using the “WGU” option. If prompted, log in using your WGU student portal credentials, and then it will forward you to Panopto’s website.\n",
    " \n",
    "To submit your recording, upload it to the Panopto drop box titled “Data Mining I – NVM2.” Once the recording has been uploaded and processed in Panopto's system, retrieve the URL of the recording from Panopto and copy and paste it into the Links option. Upload the remaining task requirements using the Attachments option.\n",
    "\n",
    "Panapto: https://wgu.hosted.panopto.com/Panopto/Pages/Viewer.aspx?id=b83de77d-6f5b-4c82-afd3-ae1501858242"
   ]
  },
  {
   "cell_type": "markdown",
   "id": "bbe8c510",
   "metadata": {},
   "source": [
    "G.  Record the web sources used to acquire data or segments of third-party code to support the analysis. Ensure the web sources are reliable."
   ]
  },
  {
   "cell_type": "markdown",
   "id": "50557565",
   "metadata": {},
   "source": [
    "```{bibliography}\n",
    "Pandas. (2021). Pandas DataFrames. https://pandas.pydata.org/pandas-docs/stable/reference/api/pandas.DataFrame.dtypes.html\n",
    "\n",
    "Get started with references. (2021). Jupyterbook. https://jupyterbook.org/tutorials/references.html#tutorials-references\n",
    "\n",
    "Marques, A. M. (2020, March 11). How to show all columns / rows of a Pandas Dataframe? Towards Data Science. https://towardsdatascience.com/how-to-show-all-columns-rows-of-a-pandas-dataframe-c49d4507fcf\n",
    "\n",
    "Starmer, J. (2018, March 5). StatQuest: Logistic Regression. YouTube. https://www.youtube.com/watch?v=yIYKR4sgzI8&t=121s\n",
    "\n",
    "V. (2019, July 21). Pandas: Apply a function to single or selected columns or rows in Dataframe. ThisPointer. https://thispointer.com/pandas-apply-a-function-to-single-or-selected-columns-or-rows-in-dataframe/\n",
    "\n",
    "Wijaya, C. Y. (2021, December 15). 5 Must-Know Dimensionality Reduction Techniques via Prince. Medium. https://towardsdatascience.com/5-must-know-dimensionality-reduction-techniques-via-prince-e6ffb27e55d1\n",
    "\n",
    "Chatterjee, M. (2021, April 19). A Quick Introduction to KNN Algorithm. GreatLearning Blog: Free Resources What Matters to Shape Your Career! https://www.mygreatlearning.com/blog/knn-algorithm-introduction/\n",
    "```"
   ]
  },
  {
   "cell_type": "markdown",
   "id": "75eed0ee",
   "metadata": {},
   "source": [
    "H.  Acknowledge sources, using in-text citations and references, for content that is quoted, paraphrased, or summarized.\n",
    "\n",
    "```{bibliography}\n",
    "Chantal D. Larose, & Daniel T. Larose. (2019). Data Science Using Python and R. Wiley.\n",
    "\n",
    "```"
   ]
  },
  {
   "cell_type": "code",
   "execution_count": null,
   "id": "2545d092",
   "metadata": {},
   "outputs": [],
   "source": []
  }
 ],
 "metadata": {
  "kernelspec": {
   "display_name": "Python 3 (ipykernel)",
   "language": "python",
   "name": "python3"
  },
  "language_info": {
   "codemirror_mode": {
    "name": "ipython",
    "version": 3
   },
   "file_extension": ".py",
   "mimetype": "text/x-python",
   "name": "python",
   "nbconvert_exporter": "python",
   "pygments_lexer": "ipython3",
   "version": "3.9.12"
  }
 },
 "nbformat": 4,
 "nbformat_minor": 5
}
